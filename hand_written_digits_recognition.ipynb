{
  "nbformat": 4,
  "nbformat_minor": 0,
  "metadata": {
    "colab": {
      "provenance": [],
      "authorship_tag": "ABX9TyOIjGkL16Djnm4zZj1qBT7E"
    },
    "kernelspec": {
      "name": "python3",
      "display_name": "Python 3"
    },
    "language_info": {
      "name": "python"
    }
  },
  "cells": [
    {
      "cell_type": "code",
      "execution_count": 1,
      "metadata": {
        "id": "sACU8APazEHm"
      },
      "outputs": [],
      "source": [
        "#import necessary libraries\n",
        "import matplotlib.pyplot as plt\n",
        "import numpy as np\n",
        "from sklearn import datasets, metrics, svm\n",
        "from sklearn.model_selection import train_test_split\n",
        "import pandas as pd\n"
      ]
    },
    {
      "cell_type": "code",
      "source": [
        "# importing dataset\n",
        "digits = datasets.load_digits()\n",
        "\n",
        "print(digits.data)"
      ],
      "metadata": {
        "colab": {
          "base_uri": "https://localhost:8080/"
        },
        "id": "coWLaDyd6c-z",
        "outputId": "23f18e81-1c02-4539-c310-fe57dc6bb060"
      },
      "execution_count": 2,
      "outputs": [
        {
          "output_type": "stream",
          "name": "stdout",
          "text": [
            "[[ 0.  0.  5. ...  0.  0.  0.]\n",
            " [ 0.  0.  0. ... 10.  0.  0.]\n",
            " [ 0.  0.  0. ... 16.  9.  0.]\n",
            " ...\n",
            " [ 0.  0.  1. ...  6.  0.  0.]\n",
            " [ 0.  0.  2. ... 12.  0.  0.]\n",
            " [ 0.  0. 10. ... 12.  1.  0.]]\n"
          ]
        }
      ]
    },
    {
      "cell_type": "code",
      "metadata": {
        "colab": {
          "base_uri": "https://localhost:8080/"
        },
        "id": "0a252f2a",
        "outputId": "b23e7aba-9333-4858-df84-f1cabd1521c9"
      },
      "source": [
        "# Display the keys of the digits dataset\n",
        "print(\"Keys of the digits dataset:\", digits.keys())\n",
        "\n",
        "# Display the data (features) of the digits dataset\n",
        "print(\"\\nData of the digits dataset (first rows):\\n\", digits.data[:1])\n",
        "\n",
        "# Display the target (labels) of the digits dataset\n",
        "print(\"\\nTarget of the digits dataset (first elements):\\n\", digits.target[:1])"
      ],
      "execution_count": 3,
      "outputs": [
        {
          "output_type": "stream",
          "name": "stdout",
          "text": [
            "Keys of the digits dataset: dict_keys(['data', 'target', 'frame', 'feature_names', 'target_names', 'images', 'DESCR'])\n",
            "\n",
            "Data of the digits dataset (first 5 rows):\n",
            " [[ 0.  0.  5. 13.  9.  1.  0.  0.  0.  0. 13. 15. 10. 15.  5.  0.  0.  3.\n",
            "  15.  2.  0. 11.  8.  0.  0.  4. 12.  0.  0.  8.  8.  0.  0.  5.  8.  0.\n",
            "   0.  9.  8.  0.  0.  4. 11.  0.  1. 12.  7.  0.  0.  2. 14.  5. 10. 12.\n",
            "   0.  0.  0.  0.  6. 13. 10.  0.  0.  0.]]\n",
            "\n",
            "Target of the digits dataset (first 5 elements):\n",
            " [0]\n"
          ]
        }
      ]
    },
    {
      "cell_type": "code",
      "source": [
        "# If using nrows=1, ncols=4 — axes is 1D, no flattening needed\n",
        "fig, axes = plt.subplots(nrows=1, ncols=4, figsize=(10, 5))\n",
        "\n",
        "for ax, image, label in zip(axes, digits.images[:4], digits.target[:4]):\n",
        "    ax.set_axis_off()\n",
        "    ax.imshow(image, cmap=plt.cm.gray_r, interpolation='nearest')\n",
        "    ax.set_title(f'Training: {label}')\n",
        "\n",
        "plt.show()\n"
      ],
      "metadata": {
        "id": "IRoSV9nWyVQI",
        "colab": {
          "base_uri": "https://localhost:8080/",
          "height": 227
        },
        "outputId": "36dd53b7-634e-48d1-a8db-1909e8f6af79"
      },
      "execution_count": 4,
      "outputs": [
        {
          "output_type": "display_data",
          "data": {
            "text/plain": [
              "<Figure size 1000x500 with 4 Axes>"
            ],
            "image/png": "[encoded data removed]"
          },
          "metadata": {}
        }
      ]
    },
    {
      "cell_type": "code",
      "source": [
        "print(\"shape and size of the dataset\", digits.data.shape)\n",
        "print(\"shape and size of the images\", digits.images.shape)\n",
        "print(\"size of images\", len(digits.images))\n"
      ],
      "metadata": {
        "id": "8V_1mRXxwEl5",
        "colab": {
          "base_uri": "https://localhost:8080/"
        },
        "outputId": "b33fee78-8a31-4dc0-c2a1-91a20bf89c72"
      },
      "execution_count": 10,
      "outputs": [
        {
          "output_type": "stream",
          "name": "stdout",
          "text": [
            "shape and size of the dataset (1797, 64)\n",
            "shape and size of the images (1797, 8, 8)\n",
            "size of images 1797\n"
          ]
        }
      ]
    },
    {
      "cell_type": "code",
      "source": [
        "#to apply classifier model for this data set we need to flatten the 2-D images\n",
        "n_samples = len(digits.images)\n",
        "data = digits.images.reshape(n_samples, -1)\n",
        "\n",
        "\n",
        "#creating a classifier a support vector classifier\n",
        "classifier = svm.SVC(gamma=0.001)\n",
        "\n",
        "#splitting the data into training and testing set\n",
        "x_train, x_test, y_train, y_test = train_test_split(data, digits.target, test_size=0.2, random_state=42)\n",
        "\n",
        "#training the model\n",
        "classifier.fit(x_train, y_train)\n",
        "\n",
        "#predicting the values of the digits on the test subset\n",
        "predicted = classifier.predict(x_test)"
      ],
      "metadata": {
        "id": "yXQ7C53On9F-"
      },
      "execution_count": 14,
      "outputs": []
    },
    {
      "cell_type": "code",
      "source": [
        "fig, axes = plt.subplots(nrows=1, ncols=4, figsize=(10, 5))\n",
        "\n",
        "for ax, image, prediction in zip(axes, digits.images[:4], predicted):\n",
        "    ax.set_axis_off()\n",
        "    ax.imshow(image, cmap=plt.cm.gray_r, interpolation='nearest')\n",
        "    ax.set_title(f'predictions: {prediction}')\n",
        "\n",
        "plt.show()"
      ],
      "metadata": {
        "colab": {
          "base_uri": "https://localhost:8080/",
          "height": 227
        },
        "id": "MQHEibwut3KZ",
        "outputId": "bee7452f-8c05-400c-f7ac-64009392caa0"
      },
      "execution_count": 16,
      "outputs": [
        {
          "output_type": "display_data",
          "data": {
            "text/plain": [
              "<Figure size 1000x500 with 4 Axes>"
            ],
            "image/png": "[encoded data removed]"
          },
          "metadata": {}
        }
      ]
    },
    {
      "cell_type": "code",
      "source": [
        "print(\n",
        "    f\"Classification report for classifier {classifier}:\\n\"\n",
        "    f\"{metrics.classification_report(y_test, predicted)}\\n\"\n",
        ")"
      ],
      "metadata": {
        "colab": {
          "base_uri": "https://localhost:8080/"
        },
        "id": "a80aVYP7wAYY",
        "outputId": "5be55acc-fd17-47e8-d0d4-4a5b3eca1c31"
      },
      "execution_count": 21,
      "outputs": [
        {
          "output_type": "stream",
          "name": "stdout",
          "text": [
            "Classification report for classifier SVC(gamma=0.001):\n",
            "              precision    recall  f1-score   support\n",
            "\n",
            "           0       1.00      1.00      1.00        33\n",
            "           1       1.00      1.00      1.00        28\n",
            "           2       1.00      1.00      1.00        33\n",
            "           3       1.00      0.97      0.99        34\n",
            "           4       1.00      1.00      1.00        46\n",
            "           5       0.98      0.98      0.98        47\n",
            "           6       0.97      1.00      0.99        35\n",
            "           7       0.97      0.97      0.97        34\n",
            "           8       1.00      1.00      1.00        30\n",
            "           9       0.97      0.97      0.97        40\n",
            "\n",
            "    accuracy                           0.99       360\n",
            "   macro avg       0.99      0.99      0.99       360\n",
            "weighted avg       0.99      0.99      0.99       360\n",
            "\n",
            "\n"
          ]
        }
      ]
    },
    {
      "cell_type": "code",
      "source": [
        "disp = metrics.ConfusionMatrixDisplay.from_predictions(y_test, predicted)\n",
        "disp.figure_.suptitle(\"Confusion Matrix\")\n",
        "print(f\"Confusion matrix:\\n{disp.confusion_matrix}\")\n",
        "\n",
        "plt.show()"
      ],
      "metadata": {
        "colab": {
          "base_uri": "https://localhost:8080/",
          "height": 688
        },
        "id": "9UZXx_v6wpL5",
        "outputId": "8550a4bb-09cc-4bd1-fdea-4dc57531c69b"
      },
      "execution_count": 22,
      "outputs": [
        {
          "output_type": "stream",
          "name": "stdout",
          "text": [
            "Confusion matrix:\n",
            "[[33  0  0  0  0  0  0  0  0  0]\n",
            " [ 0 28  0  0  0  0  0  0  0  0]\n",
            " [ 0  0 33  0  0  0  0  0  0  0]\n",
            " [ 0  0  0 33  0  1  0  0  0  0]\n",
            " [ 0  0  0  0 46  0  0  0  0  0]\n",
            " [ 0  0  0  0  0 46  1  0  0  0]\n",
            " [ 0  0  0  0  0  0 35  0  0  0]\n",
            " [ 0  0  0  0  0  0  0 33  0  1]\n",
            " [ 0  0  0  0  0  0  0  0 30  0]\n",
            " [ 0  0  0  0  0  0  0  1  0 39]]\n"
          ]
        },
        {
          "output_type": "display_data",
          "data": {
            "text/plain": [
              "<Figure size 640x480 with 2 Axes>"
            ],
            "image/png": "[encoded data removed]"
          },
          "metadata": {}
        }
      ]
    },
    {
      "cell_type": "code",
      "source": [],
      "metadata": {
        "id": "xSSRuh7E3dDt"
      },
      "execution_count": null,
      "outputs": []
    }
  ]
}